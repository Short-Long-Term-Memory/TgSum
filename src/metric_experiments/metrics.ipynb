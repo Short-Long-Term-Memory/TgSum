{
  "cells": [
    {
      "cell_type": "code",
      "execution_count": null,
      "metadata": {
        "colab": {
          "base_uri": "https://localhost:8080/"
        },
        "id": "scS20H6PBbV1",
        "outputId": "c6a0e3df-507b-4e7e-f4eb-603878986e6b"
      },
      "outputs": [
        {
          "name": "stdout",
          "output_type": "stream",
          "text": [
            "Looking in indexes: https://pypi.org/simple, https://us-python.pkg.dev/colab-wheels/public/simple/\n",
            "Requirement already satisfied: transformers in /usr/local/lib/python3.7/dist-packages (4.24.0)\n",
            "Requirement already satisfied: tqdm>=4.27 in /usr/local/lib/python3.7/dist-packages (from transformers) (4.64.1)\n",
            "Requirement already satisfied: pyyaml>=5.1 in /usr/local/lib/python3.7/dist-packages (from transformers) (6.0)\n",
            "Requirement already satisfied: packaging>=20.0 in /usr/local/lib/python3.7/dist-packages (from transformers) (21.3)\n",
            "Requirement already satisfied: filelock in /usr/local/lib/python3.7/dist-packages (from transformers) (3.8.0)\n",
            "Requirement already satisfied: regex!=2019.12.17 in /usr/local/lib/python3.7/dist-packages (from transformers) (2022.6.2)\n",
            "Requirement already satisfied: requests in /usr/local/lib/python3.7/dist-packages (from transformers) (2.23.0)\n",
            "Requirement already satisfied: numpy>=1.17 in /usr/local/lib/python3.7/dist-packages (from transformers) (1.21.6)\n",
            "Requirement already satisfied: importlib-metadata in /usr/local/lib/python3.7/dist-packages (from transformers) (4.13.0)\n",
            "Requirement already satisfied: huggingface-hub<1.0,>=0.10.0 in /usr/local/lib/python3.7/dist-packages (from transformers) (0.10.1)\n",
            "Requirement already satisfied: tokenizers!=0.11.3,<0.14,>=0.11.1 in /usr/local/lib/python3.7/dist-packages (from transformers) (0.13.2)\n",
            "Requirement already satisfied: typing-extensions>=3.7.4.3 in /usr/local/lib/python3.7/dist-packages (from huggingface-hub<1.0,>=0.10.0->transformers) (4.1.1)\n",
            "Requirement already satisfied: pyparsing!=3.0.5,>=2.0.2 in /usr/local/lib/python3.7/dist-packages (from packaging>=20.0->transformers) (3.0.9)\n",
            "Requirement already satisfied: zipp>=0.5 in /usr/local/lib/python3.7/dist-packages (from importlib-metadata->transformers) (3.10.0)\n",
            "Requirement already satisfied: certifi>=2017.4.17 in /usr/local/lib/python3.7/dist-packages (from requests->transformers) (2022.9.24)\n",
            "Requirement already satisfied: urllib3!=1.25.0,!=1.25.1,<1.26,>=1.21.1 in /usr/local/lib/python3.7/dist-packages (from requests->transformers) (1.24.3)\n",
            "Requirement already satisfied: chardet<4,>=3.0.2 in /usr/local/lib/python3.7/dist-packages (from requests->transformers) (3.0.4)\n",
            "Requirement already satisfied: idna<3,>=2.5 in /usr/local/lib/python3.7/dist-packages (from requests->transformers) (2.10)\n"
          ]
        }
      ],
      "source": [
        "!pip install transformers"
      ]
    },
    {
      "cell_type": "code",
      "execution_count": null,
      "metadata": {
        "colab": {
          "base_uri": "https://localhost:8080/"
        },
        "id": "sw9k5lmX5JXi",
        "outputId": "bf79a702-e658-4a96-a2f4-37e4966de35b"
      },
      "outputs": [
        {
          "name": "stdout",
          "output_type": "stream",
          "text": [
            "Cloning into 'TgSum'...\n",
            "remote: Enumerating objects: 34, done.\u001b[K\n",
            "remote: Counting objects: 100% (34/34), done.\u001b[K\n",
            "remote: Compressing objects: 100% (20/20), done.\u001b[K\n",
            "remote: Total 34 (delta 9), reused 30 (delta 8), pack-reused 0\u001b[K\n",
            "Unpacking objects: 100% (34/34), done.\n"
          ]
        }
      ],
      "source": [
        "from os import chdir\n",
        "chdir(\"/content\")\n",
        "!rm -rf TgSum\n",
        "!git clone https://github.com/Short-Long-Term-Memory/TgSum/\n",
        "chdir(\"/content/TgSum/metric_experiments\")"
      ]
    },
    {
      "cell_type": "code",
      "execution_count": 1,
      "metadata": {
        "id": "HK4wmPjGE6LS"
      },
      "outputs": [],
      "source": [
        "from lm import LM\n",
        "from metrics import optimize_summary\n",
        "import torch"
      ]
    },
    {
      "cell_type": "code",
      "execution_count": 2,
      "metadata": {
        "id": "Nx1vKuhAA6Vk"
      },
      "outputs": [
        {
          "data": {
            "application/vnd.jupyter.widget-view+json": {
              "model_id": "b02a137f90574a85a5de02e22886a341",
              "version_major": 2,
              "version_minor": 0
            },
            "text/plain": [
              "Downloading pytorch_model.bin:   0%|          | 0.00/523M [00:00<?, ?B/s]"
            ]
          },
          "metadata": {},
          "output_type": "display_data"
        }
      ],
      "source": [
        "lm = LM.from_pretrained(\"gpt2\")"
      ]
    },
    {
      "cell_type": "code",
      "execution_count": 6,
      "metadata": {
        "colab": {
          "base_uri": "https://localhost:8080/"
        },
        "id": "LvYM9ETEQeAX",
        "outputId": "c8461d9c-ef8b-46cd-e9e9-a03e5466fcd7"
      },
      "outputs": [
        {
          "name": "stdout",
          "output_type": "stream",
          "text": [
            "2.6970882415771484\n",
            "2.780144214630127\n",
            "3.320713520050049\n",
            "3.3370189666748047\n",
            "3.411208152770996\n",
            "3.4108965396881104\n",
            "3.5309197902679443\n"
          ]
        }
      ],
      "source": [
        "summaries = [\n",
        "    \"\"\"Officers searched properties in the Waterfront Park and Colonsay\"\"\",\n",
        "    \"\"\"A man has appeared in court after firearms, ammunition and cash were seized by police in Edinburgh.\"\"\",\n",
        "    \"\"\" \"\"\",\n",
        "    \"\"\"A piece of news.\"\"\",\n",
        "    \"\"\"Something boring happened.\"\"\",\n",
        "    \"\"\"The pancreas can be triggered to regenerate itself through a type of fasting diet, say US researchers.\"\"\"\n",
        "    \"\"\"One, two, three!\"\"\",\n",
        "    \"\"\"#$%^&*(*&^%$#$%)\"\"\"\n",
        "]\n",
        "validation = \"\"\"Officers searched properties in the Waterfront Park and Colonsay View areas of the city on Wednesday. Detectives said three firearms, ammunition and a five-figure sum of money were recovered. A 26-year-old man who was arrested and charged appeared at Edinburgh Sheriff Court on Thursday.\"\"\"\n",
        "for summary in summaries:\n",
        "    print(lm.loss_str(summary, validation).item())"
      ]
    },
    {
      "cell_type": "code",
      "execution_count": 7,
      "metadata": {
        "id": "NJ3xge0HNGOy"
      },
      "outputs": [],
      "source": [
        "x = lm.ids_to_embs(lm.text_to_ids(summaries[3]))\n",
        "x = 0.1 * torch.randn_like(x)"
      ]
    },
    {
      "cell_type": "code",
      "execution_count": 8,
      "metadata": {
        "colab": {
          "base_uri": "https://localhost:8080/"
        },
        "id": "nrNkOAK67GEX",
        "outputId": "9bbfb15a-4512-43d0-cbc8-5767e451da4e"
      },
      "outputs": [
        {
          "data": {
            "text/plain": [
              "tensor(3.7220, grad_fn=<NllLossBackward0>)"
            ]
          },
          "execution_count": 8,
          "metadata": {},
          "output_type": "execute_result"
        }
      ],
      "source": [
        "lm.loss_emb(x, validation)\n",
        "# lm.loss_str(summaries[0], validation)"
      ]
    },
    {
      "cell_type": "code",
      "execution_count": 9,
      "metadata": {
        "colab": {
          "base_uri": "https://localhost:8080/",
          "height": 396
        },
        "id": "5OwtlHWI21qk",
        "outputId": "b442c89d-f9ef-4e36-cad2-86ed9180700d"
      },
      "outputs": [
        {
          "name": "stdout",
          "output_type": "stream",
          "text": [
            "loss = 3.777344226837158, std(emb) = 0.09997662156820297\n",
            "0  5 at in for 6\n",
            "0  5 at in for 6\n",
            "loss = 3.5334291458129883, std(emb) = 0.10142997652292252\n",
            "1  5 at an 12 6\n",
            "loss = 3.422637462615967, std(emb) = 0.10413491725921631\n",
            "2  10 at in at 6\n",
            "loss = 3.330447196960449, std(emb) = 0.1075957790017128\n",
            "3  three at in at 6\n",
            "loss = 3.291414260864258, std(emb) = 0.11153324693441391\n",
            "4  three at on at 6\n",
            "loss = 3.237154960632324, std(emb) = 0.11573397368192673\n",
            "loss = 3.2124476432800293, std(emb) = 0.12001775950193405\n",
            "6  three at on at 12\n",
            "loss = 3.2264416217803955, std(emb) = 0.124245785176754\n",
            "7  three at on at 61\n",
            "loss = 3.1809167861938477, std(emb) = 0.12811918556690216\n",
            "8  three at two at 61\n",
            "loss = 3.1443886756896973, std(emb) = 0.13151244819164276\n"
          ]
        }
      ],
      "source": [
        "x = optimize_summary(lm, x, validation,\n",
        "                     epochs=10,\n",
        "                     lr=0.02,\n",
        "                     noise=0.3,\n",
        "                     samples=3,\n",
        "                     l2=0.001)"
      ]
    },
    {
      "cell_type": "code",
      "execution_count": null,
      "metadata": {
        "id": "RtsLrQqc-R0x"
      },
      "outputs": [],
      "source": [
        "x = lm.discretize(x)"
      ]
    }
  ],
  "metadata": {
    "accelerator": "GPU",
    "colab": {
      "collapsed_sections": [],
      "provenance": []
    },
    "gpuClass": "standard",
    "kernelspec": {
      "display_name": "Python 3.10.6 64-bit",
      "language": "python",
      "name": "python3"
    },
    "language_info": {
      "codemirror_mode": {
        "name": "ipython",
        "version": 3
      },
      "file_extension": ".py",
      "mimetype": "text/x-python",
      "name": "python",
      "nbconvert_exporter": "python",
      "pygments_lexer": "ipython3",
      "version": "3.10.6"
    },
    "vscode": {
      "interpreter": {
        "hash": "916dbcbb3f70747c44a77c7bcd40155683ae19c65e1c03b4aa3499c5328201f1"
      }
    }
  },
  "nbformat": 4,
  "nbformat_minor": 0
}
